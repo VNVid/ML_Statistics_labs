{
  "cells": [
    {
      "cell_type": "markdown",
      "metadata": {
        "id": "1koNY0CCZKYF"
      },
      "source": [
        "## Lab 2"
      ]
    },
    {
      "cell_type": "markdown",
      "metadata": {
        "id": "mi1d3iftZKYH"
      },
      "source": [
        "### Part 3. Poetry generation\n",
        "\n",
        "Let's try to generate some poetry using RNNs. \n",
        "\n",
        "You have several choices here: \n",
        "\n",
        "* The Shakespeare sonnets, file `sonnets.txt` available in the notebook directory.\n",
        "\n",
        "* Роман в стихах \"Евгений Онегин\" Александра Сергеевича Пушкина. В предобработанном виде доступен по [ссылке](https://github.com/attatrol/data_sources/blob/master/onegin.txt).\n",
        "\n",
        "* Some other text source, if it will be approved by the course staff.\n",
        "\n",
        "Text generation can be designed in several steps:\n",
        "    \n",
        "1. Data loading.\n",
        "2. Dictionary generation.\n",
        "3. Data preprocessing.\n",
        "4. Model (neural network) training.\n",
        "5. Text generation (model evaluation).\n"
      ]
    },
    {
      "cell_type": "code",
      "execution_count": null,
      "metadata": {
        "id": "VvG6MX9FZKYK"
      },
      "outputs": [],
      "source": [
        "import string\n",
        "import os\n",
        "import torch\n",
        "import torch.nn as nn\n",
        "import torch.nn.functional as F\n",
        "import numpy as np\n",
        "import matplotlib.pyplot as plt\n",
        "torch.cuda.empty_cache()"
      ]
    },
    {
      "cell_type": "markdown",
      "metadata": {
        "id": "FkEe_3ZmZKYL"
      },
      "source": [
        "### Data loading: Shakespeare"
      ]
    },
    {
      "cell_type": "markdown",
      "metadata": {
        "id": "xRTZ0dIsZKYM"
      },
      "source": [
        "Shakespeare sonnets are awailable at this [link](http://www.gutenberg.org/ebooks/1041?msg=welcome_stranger). In addition, they are stored in the same directory as this notebook (`sonnetes.txt`). Simple preprocessing is already done for you in the next cell: all technical info is dropped."
      ]
    },
    {
      "cell_type": "code",
      "execution_count": null,
      "metadata": {
        "collapsed": true,
        "id": "29q63u7gZKYN",
        "colab": {
          "base_uri": "https://localhost:8080/"
        },
        "outputId": "0b84eb32-97f3-4375-906c-1acf65377100"
      },
      "outputs": [
        {
          "output_type": "stream",
          "name": "stdout",
          "text": [
            "--2021-12-20 07:14:10--  https://raw.githubusercontent.com/girafe-ai/ml-mipt/21f_basic/homeworks_basic/lab02_deep_learning/sonnets.txt\n",
            "Resolving raw.githubusercontent.com (raw.githubusercontent.com)... 185.199.108.133, 185.199.111.133, 185.199.110.133, ...\n",
            "Connecting to raw.githubusercontent.com (raw.githubusercontent.com)|185.199.108.133|:443... connected.\n",
            "HTTP request sent, awaiting response... 200 OK\n",
            "Length: 119748 (117K) [text/plain]\n",
            "Saving to: ‘sonnets.txt’\n",
            "\n",
            "\rsonnets.txt           0%[                    ]       0  --.-KB/s               \rsonnets.txt         100%[===================>] 116.94K  --.-KB/s    in 0.02s   \n",
            "\n",
            "2021-12-20 07:14:10 (5.78 MB/s) - ‘sonnets.txt’ saved [119748/119748]\n",
            "\n"
          ]
        }
      ],
      "source": [
        "if not os.path.exists('sonnets.txt'):\n",
        "    !wget https://raw.githubusercontent.com/girafe-ai/ml-mipt/21f_basic/homeworks_basic/lab02_deep_learning/sonnets.txt\n",
        "\n",
        "with open('sonnets.txt', 'r') as iofile:\n",
        "    text = iofile.readlines()\n",
        "    \n",
        "TEXT_START = 45\n",
        "TEXT_END = -368\n",
        "text = text[TEXT_START : TEXT_END]\n",
        "assert len(text) == 2616"
      ]
    },
    {
      "cell_type": "markdown",
      "metadata": {
        "id": "eDtuQLPdZKYO"
      },
      "source": [
        "In opposite to the in-class practice, this time we want to predict complex text. Let's reduce the complexity of the task and lowercase all the symbols.\n",
        "\n",
        "Now variable `text` is a list of strings. Join all the strings into one and lowercase it."
      ]
    },
    {
      "cell_type": "code",
      "execution_count": null,
      "metadata": {
        "colab": {
          "base_uri": "https://localhost:8080/"
        },
        "id": "qP-tPuLBZKYP",
        "outputId": "6dc07cec-ffcf-4f0e-d8bd-b6056e7b6660"
      },
      "outputs": [
        {
          "output_type": "stream",
          "name": "stdout",
          "text": [
            "OK!\n",
            "100225\n"
          ]
        }
      ],
      "source": [
        "# Join all the strings into one and lowercase it\n",
        "# Put result into variable text.\n",
        "\n",
        "text = ''.join(text).lower()\n",
        "\n",
        "assert len(text) == 100225, 'Are you sure you have concatenated all the strings?'\n",
        "assert not any([x in set(text) for x in string.ascii_uppercase]), 'Uppercase letters are present'\n",
        "print('OK!')\n",
        "print(len(text))"
      ]
    },
    {
      "cell_type": "markdown",
      "metadata": {
        "id": "W8efLmatZKYQ"
      },
      "source": [
        "### Data loading: \"Евгений Онегин\"\n"
      ]
    },
    {
      "cell_type": "code",
      "execution_count": null,
      "metadata": {
        "id": "tJAzDWXVZKYS",
        "outputId": "fb73fbee-8a0d-4fd2-c23b-61d3449ce7d7",
        "colab": {
          "base_uri": "https://localhost:8080/"
        }
      },
      "outputs": [
        {
          "output_type": "stream",
          "name": "stdout",
          "text": [
            "--2021-12-19 20:42:54--  https://raw.githubusercontent.com/attatrol/data_sources/master/onegin.txt\n",
            "Resolving raw.githubusercontent.com (raw.githubusercontent.com)... 185.199.108.133, 185.199.109.133, 185.199.110.133, ...\n",
            "Connecting to raw.githubusercontent.com (raw.githubusercontent.com)|185.199.108.133|:443... connected.\n",
            "HTTP request sent, awaiting response... 200 OK\n",
            "Length: 262521 (256K) [text/plain]\n",
            "Saving to: ‘onegin.txt’\n",
            "\n",
            "onegin.txt          100%[===================>] 256.37K  --.-KB/s    in 0.03s   \n",
            "\n",
            "2021-12-19 20:42:54 (8.60 MB/s) - ‘onegin.txt’ saved [262521/262521]\n",
            "\n"
          ]
        }
      ],
      "source": [
        "!wget https://raw.githubusercontent.com/attatrol/data_sources/master/onegin.txt\n",
        "    \n",
        "with open('onegin.txt', 'r') as iofile:\n",
        "    text = iofile.readlines()\n",
        "    \n",
        "text = [x.replace('\\t\\t', '') for x in text]"
      ]
    },
    {
      "cell_type": "markdown",
      "metadata": {
        "id": "2FZwJdKnZKYS"
      },
      "source": [
        "In opposite to the in-class practice, this time we want to predict complex text. Let's reduce the complexity of the task and lowercase all the symbols.\n",
        "\n",
        "Now variable `text` is a list of strings. Join all the strings into one and lowercase it."
      ]
    },
    {
      "cell_type": "code",
      "execution_count": null,
      "metadata": {
        "id": "saHi4necZKYS"
      },
      "outputs": [],
      "source": [
        "# Join all the strings into one and lowercase it\n",
        "# Put result into variable text.\n",
        "\n",
        "# Your great code here\n"
      ]
    },
    {
      "cell_type": "markdown",
      "metadata": {
        "id": "3fCXaRwKZKYT"
      },
      "source": [
        "Put all the characters, that you've seen in the text, into variable `tokens`."
      ]
    },
    {
      "cell_type": "code",
      "execution_count": null,
      "metadata": {
        "colab": {
          "base_uri": "https://localhost:8080/"
        },
        "id": "xbe_0MVMZKYT",
        "outputId": "7300e793-2083-4520-cae2-ff86cd832e42"
      },
      "outputs": [
        {
          "output_type": "execute_result",
          "data": {
            "text/plain": [
              "38"
            ]
          },
          "metadata": {},
          "execution_count": 4
        }
      ],
      "source": [
        "tokens = sorted(set(text))\n",
        "len(tokens)"
      ]
    },
    {
      "cell_type": "markdown",
      "metadata": {
        "id": "NmEy1IWvZKYU"
      },
      "source": [
        "Create dictionary `token_to_idx = {<char>: <index>}` and dictionary `idx_to_token = {<index>: <char>}`"
      ]
    },
    {
      "cell_type": "code",
      "execution_count": null,
      "metadata": {
        "collapsed": true,
        "id": "_8Ko9mVrZKYU"
      },
      "outputs": [],
      "source": [
        "# dict <index>:<char>\n",
        "# Your great code here\n",
        "token_to_idx = {tokens[i]: i for i in range(len(tokens))}\n",
        "\n",
        "# dict <char>:<index>\n",
        "# Your great code here\n",
        "idx_to_token = {i: tokens[i] for i in range(len(tokens))}"
      ]
    },
    {
      "cell_type": "markdown",
      "metadata": {
        "id": "LCXuqfh-ZKYV"
      },
      "source": [
        "*Comment: in this task we have only 38 different tokens, so let's use one-hot encoding.*"
      ]
    },
    {
      "cell_type": "markdown",
      "metadata": {
        "id": "iNiRVHz6ZKYV"
      },
      "source": [
        "### Building the model"
      ]
    },
    {
      "cell_type": "markdown",
      "metadata": {
        "id": "8NM9YDivZKYW"
      },
      "source": [
        "Now we want to build and train recurrent neural net which would be able to something similar to Shakespeare's poetry.\n",
        "\n",
        "Let's use vanilla RNN, similar to the one created during the lesson."
      ]
    },
    {
      "cell_type": "code",
      "execution_count": null,
      "metadata": {
        "collapsed": true,
        "id": "cbJWnXRsZKYW"
      },
      "outputs": [],
      "source": [
        "device = torch.device('cuda:0')\n",
        "class CharRNN(nn.Module):\n",
        "    def __init__(self, num_tokens=len(tokens), embedding_size=64, rnn_num_units=256):\n",
        "        super(self.__class__,self).__init__()\n",
        "        self.num_tokens = num_tokens\n",
        "        self.embedding = nn.Linear(num_tokens, embedding_size)\n",
        "        self.rnn = nn.RNN(embedding_size, rnn_num_units, num_layers=3, batch_first=True)\n",
        "        self.rnn_to_logits = nn.Linear(rnn_num_units, num_tokens)\n",
        "\n",
        "    def forward(self, x):\n",
        "      # embedding + one-hot encoding\n",
        "        x_emb = self.embedding(torch.tensor(np.eye(self.num_tokens)[x]).float().to(device))\n",
        "        output, h_next = self.rnn(x_emb.to(device))\n",
        "        next_logits = self.rnn_to_logits(output)\n",
        "        return next_logits"
      ]
    },
    {
      "cell_type": "code",
      "execution_count": null,
      "metadata": {
        "id": "n5s-yX_0Z4q3"
      },
      "outputs": [],
      "source": [
        "net = CharRNN().to(device)\n",
        "loss_func = nn.CrossEntropyLoss()\n",
        "optimizer = torch.optim.Adam(net.parameters(), lr = 1e-4)"
      ]
    },
    {
      "cell_type": "code",
      "execution_count": null,
      "metadata": {
        "id": "HI0Oip7wiDCd"
      },
      "outputs": [],
      "source": [
        "def to_matrix(inds, pad=token_to_idx[' '], dtype='int64', batch_first = True):\n",
        "    \"\"\"Casts a list of names into rnn-digestable matrix\"\"\"\n",
        "    \n",
        "    return_ix = np.zeros(inds.shape, dtype) + pad\n",
        "\n",
        "    for i in range(len(inds)):\n",
        "        text_line = [text[inds[i][j]] for j in range(len(inds[i]))]\n",
        "        line_ix = [token_to_idx[c] for c in text_line]\n",
        "        return_ix[i, :len(line_ix)] = line_ix\n",
        "        \n",
        "    if not batch_first: # convert [batch, time] into [time, batch]\n",
        "        return_ix = np.transpose(return_ix)\n",
        "\n",
        "    return return_ix"
      ]
    },
    {
      "cell_type": "markdown",
      "metadata": {
        "id": "lZo0SoNCZKYX"
      },
      "source": [
        "Plot the loss function (axis X: number of epochs, axis Y: loss function)."
      ]
    },
    {
      "cell_type": "code",
      "execution_count": null,
      "metadata": {
        "colab": {
          "base_uri": "https://localhost:8080/",
          "height": 513
        },
        "id": "86jg-AF_ZKYX",
        "outputId": "2d1dd19a-b25a-4091-de3c-6a800a892c76"
      },
      "outputs": [
        {
          "output_type": "display_data",
          "data": {
            "image/png": "[encoded data removed]",
            "text/plain": [
              "<Figure size 720x576 with 1 Axes>"
            ]
          },
          "metadata": {
            "needs_background": "light"
          }
        }
      ],
      "source": [
        "from IPython.display import clear_output\n",
        "from random import sample\n",
        "\n",
        "num_epoches = 2000\n",
        "batch_size = 1000 # number of samples in batch\n",
        "batch_num = 400 # length of substrings taken as samples\n",
        "tokens_num = len(tokens)\n",
        "\n",
        "loss_history = []\n",
        "net.train()\n",
        "for i in range(num_epoches):\n",
        "    start_inds = np.random.choice(len(text) - batch_num + 1, size=batch_size)\n",
        "    batch_ix = to_matrix(np.arange(batch_num) + start_inds[:, None])\n",
        "    batch_ix = np.array(batch_ix)\n",
        "\n",
        "    optimizer.zero_grad()\n",
        "\n",
        "    predictions = net(batch_ix[:, :-1])\n",
        "    y = torch.tensor(batch_ix[:, 1:]).to(device)\n",
        "\n",
        "    loss = loss_func(predictions.view(-1, tokens_num), y.flatten())\n",
        "    loss.backward()\n",
        "    optimizer.step()\n",
        "    \n",
        "    loss_history.append(loss.detach().cpu().data)\n",
        "    \n",
        "    # Plot\n",
        "    clear_output(wait=True)\n",
        "    plt.figure(figsize=(10,8))\n",
        "    plt.plot(loss_history)\n",
        "    plt.title('Loss')\n",
        "    plt.ylabel('loss')\n",
        "    plt.xlabel('epoches')\n",
        "    plt.show()"
      ]
    },
    {
      "cell_type": "code",
      "execution_count": null,
      "metadata": {
        "id": "6aapSXZxZKYX"
      },
      "outputs": [],
      "source": [
        "def generate_sample(char_rnn, seed_phrase=' hello', max_length=batch_num, temperature=1.0):\n",
        "    '''\n",
        "    ### Disclaimer: this is an example function for text generation.\n",
        "    ### You can either adapt it in your code or create your own function\n",
        "    \n",
        "    The function generates text given a phrase of length at least SEQ_LENGTH.\n",
        "    :param seed_phrase: prefix characters. The RNN is asked to continue the phrase\n",
        "    :param max_length: maximum output length, including seed_phrase\n",
        "    :param temperature: coefficient for sampling.  higher temperature produces more chaotic outputs, \n",
        "        smaller temperature converges to the single most likely output.\n",
        "        \n",
        "    Be careful with the model output. This model waits logits (not probabilities/log-probabilities)\n",
        "    of the next symbol.\n",
        "    '''\n",
        "\n",
        "    char_rnn.eval()\n",
        "    x_sequence = np.array([token_to_idx[token] for token in seed_phrase])\n",
        "    x_sequence = torch.tensor([x_sequence], dtype=torch.int64).to(device)\n",
        "    \n",
        "    #start generating\n",
        "    for _ in range(max_length - len(seed_phrase)):\n",
        "        out = char_rnn(x_sequence.cpu().data.numpy())\n",
        "        # Be really careful here with the model output\n",
        "        # We need info only for the new (generated) letter\n",
        "        p_next = F.softmax(out[0, -1] / temperature, dim=-1).cpu().data.numpy()\n",
        "        \n",
        "        # sample next token and push it back into x_sequence\n",
        "        next_ix = np.random.choice(len(tokens), p=p_next)\n",
        "        next_ix = torch.tensor([[next_ix]], dtype=torch.int64).to(device)\n",
        "        x_sequence = torch.cat([x_sequence, next_ix], dim=1)\n",
        "        \n",
        "    return ''.join([tokens[ix] for ix in x_sequence.cpu().data.numpy()[0]])\n"
      ]
    },
    {
      "cell_type": "code",
      "execution_count": null,
      "metadata": {
        "id": "PNfD2BLFZKYY",
        "outputId": "1b9999f7-2394-4de3-ef15-a8b1986f18ac",
        "colab": {
          "base_uri": "https://localhost:8080/"
        }
      },
      "outputs": [
        {
          "output_type": "stream",
          "name": "stdout",
          "text": [
            " hellow in the self thee my love,\n",
            "  and the sunse shall the will be the seem\n",
            "  the self the seem the world the some to me prease;\n",
            "  and the will the will the will the will stay,\n",
            "  and the will not so the will the self in thee,\n",
            "    the love thee thou art the were the self thee,\n",
            "    then the will me the sumes the world so mend,\n",
            "  and the seem and the worth the with the stall,\n",
            "  when i am the will the prood to thee thee,\n",
            "    the beauty the seem thee and the store,\n",
            "    then the worth the will the wo\n"
          ]
        }
      ],
      "source": [
        "# An example of generated text.\n",
        "print(generate_sample(net, max_length=500, temperature=0.2))"
      ]
    },
    {
      "cell_type": "code",
      "source": [
        "print(generate_sample(net, max_length=500, temperature=0.02))"
      ],
      "metadata": {
        "colab": {
          "base_uri": "https://localhost:8080/"
        },
        "id": "H8SD29DR2INf",
        "outputId": "89bda2bb-cfd9-4cc7-999a-087431c32391"
      },
      "execution_count": null,
      "outputs": [
        {
          "output_type": "stream",
          "name": "stdout",
          "text": [
            " hellow in the seem thee thee thee thee,\n",
            "    then the will the will the will the see thee,\n",
            "    the will the will the will the will the see,\n",
            "    then the will the will the will the see thee,\n",
            "    then the will the will the will the see thee,\n",
            "    then the will the will the will the see thee,\n",
            "    then the will the will the will the see thee,\n",
            "    then the will the will the will the see thee,\n",
            "    then the will the will the will the see thee,\n",
            "    then the will the will the will the see thee,\n",
            "    then t\n"
          ]
        }
      ]
    },
    {
      "cell_type": "code",
      "source": [
        "print(generate_sample(net, max_length=500, temperature=2))"
      ],
      "metadata": {
        "colab": {
          "base_uri": "https://localhost:8080/"
        },
        "id": "FyM6Pxzr2KBt",
        "outputId": "a6de6018-cbc7-4ee8-b40c-75ac37e4d29b"
      },
      "execution_count": null,
      "outputs": [
        {
          "output_type": "stream",
          "name": "stdout",
          "text": [
            " helloug\n",
            "- ,- tle pbejnct shy tlanfint a mifprbthant\n",
            "  gndess ewelw'd's hbtald knam -jaksailellx,,;\n",
            "  matiois,(bey blpolxsind, ix?, muliw ifmetovy hefinl,y flooe,\n",
            "  goo! whome lugfn  aed-oip mrscottuy ave\n",
            "  betups batardj tromy,\n",
            "  dach: whory utiin,sb srail, -(wultaineg otapity\n",
            "\n",
            "  nachx:\n",
            "  rakpwndw, teefpavtk be trm)iot misincy't!!\n",
            "  ro'l\n",
            "  lin': icwer atwqator torow,\n",
            "  now, sevememye, nos gnmake: id ifroftitot:\n",
            "  what hyom, dot euty pfainxe,'; boagyt\n",
            "  gelait,? hit hecornm'soutsmuqtikei!\n",
            "  that\n"
          ]
        }
      ]
    },
    {
      "cell_type": "code",
      "source": [
        "# As we can see, with too low temperature the model chooses most probable letters and, as a result, text is repetitive. \n",
        "# With two high temperature, choice of next letter is too chaotic (almost random), and we can hardly find a sensible word."
      ],
      "metadata": {
        "id": "zsrv4UdQ2Wer"
      },
      "execution_count": null,
      "outputs": []
    },
    {
      "cell_type": "markdown",
      "metadata": {
        "id": "y8XSnsbHZKYZ"
      },
      "source": [
        "### More poetic model\n",
        "\n",
        "Let's use LSTM instead of vanilla RNN and compare the results."
      ]
    },
    {
      "cell_type": "markdown",
      "metadata": {
        "id": "Swb6iWmTZKYZ"
      },
      "source": [
        "Plot the loss function of the number of epochs. Does the final loss become better?"
      ]
    },
    {
      "cell_type": "code",
      "execution_count": null,
      "metadata": {
        "collapsed": true,
        "id": "2T20HYqNZKYa"
      },
      "outputs": [],
      "source": [
        "device = torch.device('cuda:0')\n",
        "class CharLSTM(nn.Module):\n",
        "    def __init__(self, num_tokens=len(tokens), embedding_size=64, rnn_num_units=256):\n",
        "        super(self.__class__,self).__init__()\n",
        "        self.num_tokens = num_tokens\n",
        "        self.embedding = nn.Linear(num_tokens, embedding_size)\n",
        "        self.rnn = nn.LSTM(embedding_size, rnn_num_units, num_layers=3, batch_first=True)\n",
        "        self.rnn_to_logits = nn.Linear(rnn_num_units, num_tokens)\n",
        "\n",
        "    def forward(self, x):\n",
        "      # embedding + one-hot encoding\n",
        "        x_emb = self.embedding(torch.tensor(np.eye(self.num_tokens)[x]).float().to(device))\n",
        "        output, h_next = self.rnn(x_emb.to(device))\n",
        "        next_logits = self.rnn_to_logits(output)\n",
        "        return next_logits\n",
        "\n",
        "net = CharLSTM().to(device)\n",
        "loss_func = nn.CrossEntropyLoss()\n",
        "optimizer = torch.optim.Adam(net.parameters(), lr = 1e-4)"
      ]
    },
    {
      "cell_type": "code",
      "source": [
        "from IPython.display import clear_output\n",
        "from random import sample\n",
        "\n",
        "num_epoches = 2000\n",
        "batch_size = 1000 # number of samples in batch\n",
        "batch_num = 400 # length of substrings taken as samples\n",
        "tokens_num = len(tokens)\n",
        "\n",
        "loss_history = []\n",
        "net.train()\n",
        "for i in range(num_epoches):\n",
        "    start_inds = np.random.choice(len(text) - batch_num + 1, size=batch_size)\n",
        "    batch_ix = to_matrix(np.arange(batch_num) + start_inds[:, None])\n",
        "    batch_ix = np.array(batch_ix)\n",
        "\n",
        "    optimizer.zero_grad()\n",
        "\n",
        "    predictions = net(batch_ix[:, :-1])\n",
        "    y = torch.tensor(batch_ix[:, 1:]).to(device)\n",
        "\n",
        "    loss = loss_func(predictions.view(-1, tokens_num), y.flatten())\n",
        "    loss.backward()\n",
        "    optimizer.step()\n",
        "    \n",
        "    loss_history.append(loss.detach().cpu().data)\n",
        "    torch.save(net.state_dict(), '/content/drive/MyDrive/ML&Stats labs/lstm_net.pth')\n",
        "    \n",
        "    # Plot\n",
        "    clear_output(wait=True)\n",
        "    plt.figure(figsize=(10,8))\n",
        "    plt.plot(loss_history)\n",
        "    plt.title('Loss')\n",
        "    plt.ylabel('loss')\n",
        "    plt.xlabel('epoches')\n",
        "    plt.show()"
      ],
      "metadata": {
        "colab": {
          "base_uri": "https://localhost:8080/",
          "height": 513
        },
        "id": "jtfSPeYM3a4Q",
        "outputId": "714d0047-c2b0-46ba-b5d6-30c73190372f"
      },
      "execution_count": null,
      "outputs": [
        {
          "output_type": "display_data",
          "data": {
            "image/png": "[encoded data removed]",
            "text/plain": [
              "<Figure size 720x576 with 1 Axes>"
            ]
          },
          "metadata": {
            "needs_background": "light"
          }
        }
      ]
    },
    {
      "cell_type": "markdown",
      "metadata": {
        "id": "H7lEHIOoZKYa"
      },
      "source": [
        "Generate text using the trained net with different `temperature` parameter: `[0.1, 0.2, 0.5, 1.0, 2.0]`.\n",
        "\n",
        "Evaluate the results visually, try to interpret them."
      ]
    },
    {
      "cell_type": "code",
      "execution_count": null,
      "metadata": {
        "collapsed": true,
        "id": "z1srEItvZKYa",
        "colab": {
          "base_uri": "https://localhost:8080/"
        },
        "outputId": "7c3bd495-a7ba-4724-d69f-afba69f498a9"
      },
      "outputs": [
        {
          "output_type": "stream",
          "name": "stdout",
          "text": [
            "temperature=0.1\n"
          ]
        },
        {
          "output_type": "stream",
          "name": "stderr",
          "text": [
            "/usr/local/lib/python3.7/dist-packages/ipykernel_launcher.py:18: UserWarning: Creating a tensor from a list of numpy.ndarrays is extremely slow. Please consider converting the list to a single numpy.ndarray with numpy.array() before converting to a tensor. (Triggered internally at  ../torch/csrc/utils/tensor_new.cpp:201.)\n"
          ]
        },
        {
          "output_type": "stream",
          "name": "stdout",
          "text": [
            " hellor thee thee thee thee thee thee thee thee soree,\n",
            "  and the thee thee the the the the the thee sore,\n",
            "  th the thee thee thee the than thee thee thee tore,\n",
            "  the thee the thee thee the thee the thee thee thee,\n",
            "  th the the thee the the thee the thee ton thee sore,\n",
            "  the thee the the thee the the\n",
            "temperature=0.2\n",
            " hellon the thee the the thee sore seate,\n",
            "    the than the the the thee than thee tore thar seeee,\n",
            "  th the thee sole thar thee tout thur the thee tore,\n",
            "  thon the the the thee the thar thee thor thee thee,\n",
            "  thou the th the thee thee than thee the sore seee,\n",
            "    the the the thee thee the their sone\n",
            "temperature=0.5\n",
            " hellon here thee is thase son whers dinet\n",
            "\n",
            "    the as meires ooe this murt theoe te bores.\n",
            "    thil touse theor cean thar sher mon thoee,\n",
            "  thee in ther to thot mill tor tomh on oneed,\n",
            "    th any tere soath sall the dov toe dhany sores,\n",
            "  thon eeadt te mirirt pos tore ceanl,\n",
            "  thir thot hod sowes o\n",
            "temperature=1.0\n",
            " hellod moyee nonl,\n",
            "  oon in iss foad, euflh to taphs sy uuanlt;\n",
            "  ooth bpn  fov ane somr donl tcdd deoeer\n",
            "\n",
            "   os orinlss furins in inhse tamess mot kiw,\n",
            "s  o chentert gimieaht foeals le maf, hhol bisk,\n",
            " y dn lor byar' gine eivl jhfkal an ters shr meenr,\n",
            "  th see bnind ly lirt, or thy tidh\n",
            "\n",
            "   vo ti\n",
            "temperature=2.0\n",
            " hellot\n",
            "   'ndnoro lgudonc bhfj tewaunh utdnr'hh,\n",
            "  oulh wuyhf-diu;\n",
            "  naguelr hhe, disqrpr)io,\n",
            "   ricbet-baonpnpm. -wtdhng? tyac vawsiuedn:e anbffcd-iixk daar, saliril yput rkang. ftv whcd,  ,uinist lligovr.\n",
            "  ho rlr quoged' iy\n",
            " f lebktasst rfeimnde colakv.\n",
            " ' lintt; erfoovf-yhon cudteseiulp\n",
            "?\n",
            "  ? s\n"
          ]
        }
      ],
      "source": [
        "# Text generation with different temperature values here\n",
        "temperature = [0.1, 0.2, 0.5, 1.0, 2.0]\n",
        "for t in temperature:\n",
        "  print(\"temperature={}\".format(t))\n",
        "  print(generate_sample(net, max_length=300, temperature=t))"
      ]
    },
    {
      "cell_type": "code",
      "source": [
        "# Conclusions are the same as in previous part."
      ],
      "metadata": {
        "id": "5bfvojv6CAYe"
      },
      "execution_count": null,
      "outputs": []
    },
    {
      "cell_type": "markdown",
      "metadata": {
        "id": "NWc4aDIMZKYb"
      },
      "source": [
        "### Saving and loading models"
      ]
    },
    {
      "cell_type": "markdown",
      "metadata": {
        "id": "uVKnTfjwZKYb"
      },
      "source": [
        "Save the model to the disk, then load it and generate text. Examples are available [here](https://pytorch.org/tutorials/beginner/saving_loading_models.html])."
      ]
    },
    {
      "cell_type": "code",
      "execution_count": null,
      "metadata": {
        "collapsed": true,
        "id": "04-rKWdlZKYb",
        "colab": {
          "base_uri": "https://localhost:8080/"
        },
        "outputId": "07986b6e-7571-4aee-b9d1-fc80b130de72"
      },
      "outputs": [
        {
          "output_type": "stream",
          "name": "stdout",
          "text": [
            "Mounted at /content/drive\n"
          ]
        }
      ],
      "source": [
        "from google.colab import drive\n",
        "drive.mount('/content/drive')"
      ]
    },
    {
      "cell_type": "code",
      "source": [
        "torch.save(net.state_dict(), '/content/drive/MyDrive/ML&Stats labs/lstm_net_.pth')"
      ],
      "metadata": {
        "id": "TXGrXR9061Ek"
      },
      "execution_count": null,
      "outputs": []
    },
    {
      "cell_type": "code",
      "source": [
        "load_net = CharLSTM().to(device)\n",
        "load_net.load_state_dict(torch.load('/content/drive/MyDrive/ML&Stats labs/lstm_net_.pth'))\n",
        "print(generate_sample(load_net, max_length=500, temperature=0.6))"
      ],
      "metadata": {
        "id": "NIX4wKPk9SmF",
        "colab": {
          "base_uri": "https://localhost:8080/"
        },
        "outputId": "40979d45-fd6f-4e04-cb0c-5c525cb20c4c"
      },
      "execution_count": null,
      "outputs": [
        {
          "output_type": "stream",
          "name": "stdout",
          "text": [
            " hellor teee ard with sore;\n",
            "  o siv sh and dass bov vol late are leeee,\n",
            "  wh oot an tore thur tat th thas af thee yhe tind weine,\n",
            "    noin shele thore shee to shy th the toeos in seee,\n",
            "  the srot sone mey shor tey so dour that bny gteor\n",
            "\n",
            "   ir buvt mh thee thee thealey tit le banlet thov,\n",
            "   ns thone'n th seat hut if wh semr core dhee, theee mosh tonineed bile seame:\n",
            "  than in shuus do sewett mritees hat tore mat toe thee\n",
            "\n",
            "  thor thar thd annet aet bote if wher wole:\n",
            "  th tham weat fovin thee t \n"
          ]
        }
      ]
    },
    {
      "cell_type": "markdown",
      "metadata": {
        "id": "0O_-XtnQZKYb"
      },
      "source": [
        "### References\n",
        "1. <a href='http://karpathy.github.io/2015/05/21/rnn-effectiveness/'> Andrew Karpathy blog post about RNN. </a> \n",
        "There are several examples of genration: Shakespeare texts, Latex formulas, Linux Sourse Code and children names.\n",
        "2. <a href='https://github.com/karpathy/char-rnn'> Repo with char-rnn code </a>\n",
        "3. Cool repo with PyTorch examples: [link](https://github.com/spro/practical-pytorch`)"
      ]
    }
  ],
  "metadata": {
    "accelerator": "GPU",
    "anaconda-cloud": {},
    "colab": {
      "collapsed_sections": [],
      "name": "Lab2_DL_part3_poetry.ipynb",
      "provenance": []
    },
    "kernelspec": {
      "display_name": "Python 3",
      "language": "python",
      "name": "python3"
    },
    "language_info": {
      "codemirror_mode": {
        "name": "ipython",
        "version": 3
      },
      "file_extension": ".py",
      "mimetype": "text/x-python",
      "name": "python",
      "nbconvert_exporter": "python",
      "pygments_lexer": "ipython3",
      "version": "3.7.7"
    }
  },
  "nbformat": 4,
  "nbformat_minor": 0
}